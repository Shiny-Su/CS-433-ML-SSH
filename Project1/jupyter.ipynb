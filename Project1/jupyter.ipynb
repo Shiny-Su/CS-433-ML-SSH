{
 "cells": [
  {
   "cell_type": "code",
   "execution_count": 37,
   "id": "a42fb945",
   "metadata": {
    "scrolled": true
   },
   "outputs": [
    {
     "name": "stdout",
     "output_type": "stream",
     "text": [
      "Loading the training and testing data...\n"
     ]
    }
   ],
   "source": [
    "import numpy as np\n",
    "import matplotlib.pyplot as plt\n",
    "\n",
    "from implementations import *\n",
    "from proj1_helpers import *\n",
    "\n",
    "\n",
    "print(\"Loading the training and testing data...\")\n",
    "y, trainx, train_id = load_csv_data('data/train.csv')\n",
    "_, testx, test_id = load_csv_data('data/test.csv')\n"
   ]
  },
  {
   "cell_type": "code",
   "execution_count": 85,
   "id": "e7e5e4db",
   "metadata": {},
   "outputs": [
    {
     "name": "stdout",
     "output_type": "stream",
     "text": [
      "Cleanning the abnormal values and standardizing dataset with Z-score...\n"
     ]
    }
   ],
   "source": [
    "print(\"Cleanning the abnormal values and standardizing dataset with Z-score...\")\n",
    "standardized_trainx = standardize(trainx)\n",
    "standardized_testx = standardize(testx)\n"
   ]
  },
  {
   "cell_type": "code",
   "execution_count": 23,
   "id": "42fe0ebc",
   "metadata": {},
   "outputs": [],
   "source": [
    "def PCA(x, threshold):\n",
    "    \"\"\"Apply PCA to a given set of datapoints in d-dimension\"\"\"\n",
    "    cov_x = np.cov(x.T)\n",
    "    eigenValues, eigenVectors = np.linalg.eig(cov_x)\n",
    "    idx = eigenValues.argsort()[::-1]   \n",
    "    eigenValues = eigenValues[idx]\n",
    "    eigenVectors = eigenVectors[:,idx]\n",
    "    \n",
    "    eig_val = np.asarray(eigenValues)\n",
    "    eig_vec = np.asarray(eigenVectors)\n",
    "    \n",
    "    eig_val=eig_val/sum(eig_val)\n",
    "    k=-1\n",
    "    sum_=0\n",
    "    while(sum_<threshold):\n",
    "        k+=1\n",
    "        sum_=sum_+eig_val[k]\n",
    "    \n",
    "    #keep only kth first dimension\n",
    "    \n",
    "    eig_vec=eig_vec[:,:k]\n",
    "    \n",
    "    return eig_val, eig_vec, k"
   ]
  },
  {
   "cell_type": "code",
   "execution_count": 107,
   "id": "4ca0af25",
   "metadata": {},
   "outputs": [
    {
     "data": {
      "text/plain": [
       "array([[9.99000999e-04, 4.99750125e-04],\n",
       "       [9.99000999e-04, 1.00000000e+00],\n",
       "       [1.00000000e+00, 5.00249875e-01]])"
      ]
     },
     "execution_count": 107,
     "metadata": {},
     "output_type": "execute_result"
    }
   ],
   "source": [
    "def normalize(x):\n",
    "    return (x - np.min(x, axis=0)+0.001) / (np.max(x, axis=0) - np.min(x, axis=0)+0.001)\n",
    "normalize(np.array([[1,1],[1,3],[2,2]]))"
   ]
  },
  {
   "cell_type": "code",
   "execution_count": 108,
   "id": "6b3bf933",
   "metadata": {},
   "outputs": [],
   "source": [
    "standardized_trainx = normalize(standardized_trainx)"
   ]
  },
  {
   "cell_type": "code",
   "execution_count": 111,
   "id": "41b8edf9",
   "metadata": {},
   "outputs": [
    {
     "name": "stdout",
     "output_type": "stream",
     "text": [
      "15\n"
     ]
    }
   ],
   "source": [
    "eig_val, eig_vec, j = PCA(standardized_trainx, threshold=0.99)\n",
    "standardized_trainx2 = standardized_trainx.dot(eig_vec)\n",
    "print(j)"
   ]
  },
  {
   "cell_type": "code",
   "execution_count": 25,
   "id": "941e90eb",
   "metadata": {
    "scrolled": true
   },
   "outputs": [
    {
     "name": "stdout",
     "output_type": "stream",
     "text": [
      "Building polynomial..\n"
     ]
    }
   ],
   "source": [
    "# print(\"Building polynomial..\")\n",
    "# # Best found degree is 15 (from 10 to 25)\n",
    "# poly_train = build_poly(standardized_trainx, 15)\n",
    "# poly_train = np.c_[np.ones(poly_train.shape[0]), poly_train]\n"
   ]
  },
  {
   "cell_type": "code",
   "execution_count": 88,
   "id": "a3444d57",
   "metadata": {},
   "outputs": [
    {
     "name": "stdout",
     "output_type": "stream",
     "text": [
      "Accuracy 0.73624\n"
     ]
    }
   ],
   "source": [
    "# poly_train = build_poly(standardized_trainx, 10)\n",
    "# poly_train = np.c_[np.ones(poly_train.shape[0]), poly_train]\n",
    "# poly_w, poly_loss = ridge_regression(y, poly_train, 1e-3)\n",
    "# poly_y_pred = predict_labels(poly_train, poly_w)\n",
    "# print ('Accuracy', accuracy(poly_y_pred, y))"
   ]
  },
  {
   "cell_type": "code",
   "execution_count": null,
   "id": "a57c6556",
   "metadata": {},
   "outputs": [],
   "source": [
    "poly_train = build_poly(standardized_trainx, 15)\n",
    "\n",
    "poly_train = np.c_[np.ones(poly_train.shape[0]), poly_train]\n",
    "#To optimize build_poly (to be more meaningful)\n",
    "#To apply PCA and cross validation (and normalization)\n",
    "\n",
    "poly_w, poly_loss = reg_logistic_regression(y, poly_train, 1e-3, initial_w=np.zeros(poly_train.shape[1]), max_iters=25, gamma=0.0005)\n",
    "poly_y_pred = predict_labels(poly_train, poly_w)\n",
    "print ('Accuracy', accuracy(poly_y_pred, y))\n",
    "\n"
   ]
  },
  {
   "cell_type": "code",
   "execution_count": 113,
   "id": "d871f0fa",
   "metadata": {},
   "outputs": [
    {
     "name": "stdout",
     "output_type": "stream",
     "text": [
      "Training with ridge regression...\n",
      "Accuracy 0.79298\n"
     ]
    }
   ],
   "source": [
    "print(\"Training with ridge regression...\")\n",
    "# Best found lambda is 1e-8\n",
    "# lambdas_ = np.linspace(10e-9, 10e-4, 20)\n",
    "poly_train = build_poly(standardized_trainx, 15)\n",
    "poly_train = np.c_[np.ones(poly_train.shape[0]), poly_train]\n",
    "\n",
    "poly_w, poly_loss = ridge_regression(y, poly_train, 1e-8)\n",
    "poly_y_pred = predict_labels(poly_train, poly_w)\n",
    "print ('Accuracy', accuracy(poly_y_pred, y))\n"
   ]
  },
  {
   "cell_type": "code",
   "execution_count": 97,
   "id": "0d375789",
   "metadata": {},
   "outputs": [
    {
     "name": "stdout",
     "output_type": "stream",
     "text": [
      "11\n"
     ]
    }
   ],
   "source": [
    "standardized_testx = normalize(standardized_testx)\n",
    "\n",
    "eig_val, eig_vec, j = PCA(standardized_testx, threshold=0.95)\n",
    "standardized_testx2 = standardized_testx.dot(eig_vec)\n",
    "print(j)"
   ]
  },
  {
   "cell_type": "code",
   "execution_count": 98,
   "id": "3e0d4d8f",
   "metadata": {},
   "outputs": [],
   "source": [
    "poly_test = build_poly(standardized_testx2, 15)\n",
    "\n",
    "poly_test = np.c_[np.ones(poly_test.shape[0]), poly_test]"
   ]
  },
  {
   "cell_type": "code",
   "execution_count": 99,
   "id": "bf0f4685",
   "metadata": {},
   "outputs": [
    {
     "name": "stdout",
     "output_type": "stream",
     "text": [
      "Making predctions for the test file...\n"
     ]
    },
    {
     "ename": "ValueError",
     "evalue": "shapes (568238,167) and (452,) not aligned: 167 (dim 1) != 452 (dim 0)",
     "output_type": "error",
     "traceback": [
      "\u001b[0;31m---------------------------------------------------------------------------\u001b[0m",
      "\u001b[0;31mValueError\u001b[0m                                Traceback (most recent call last)",
      "\u001b[0;32m<ipython-input-99-e885d32eeb01>\u001b[0m in \u001b[0;36m<module>\u001b[0;34m\u001b[0m\n\u001b[1;32m      1\u001b[0m \u001b[0mprint\u001b[0m\u001b[0;34m(\u001b[0m\u001b[0;34m\"Making predctions for the test file...\"\u001b[0m\u001b[0;34m)\u001b[0m\u001b[0;34m\u001b[0m\u001b[0m\n\u001b[0;32m----> 2\u001b[0;31m \u001b[0my_pred\u001b[0m \u001b[0;34m=\u001b[0m \u001b[0mpredict_labels\u001b[0m\u001b[0;34m(\u001b[0m\u001b[0mpoly_test\u001b[0m\u001b[0;34m,\u001b[0m \u001b[0mpoly_w\u001b[0m\u001b[0;34m)\u001b[0m\u001b[0;34m\u001b[0m\u001b[0m\n\u001b[0m\u001b[1;32m      3\u001b[0m \u001b[0mcreate_csv_submission\u001b[0m\u001b[0;34m(\u001b[0m\u001b[0mtest_id\u001b[0m\u001b[0;34m,\u001b[0m \u001b[0my_pred\u001b[0m\u001b[0;34m,\u001b[0m \u001b[0;34m'predictions.csv'\u001b[0m\u001b[0;34m)\u001b[0m\u001b[0;34m\u001b[0m\u001b[0m\n\u001b[1;32m      4\u001b[0m \u001b[0mprint\u001b[0m\u001b[0;34m(\u001b[0m\u001b[0;34m\"The prediction has been stored in the predictions.csv file\"\u001b[0m\u001b[0;34m)\u001b[0m\u001b[0;34m\u001b[0m\u001b[0m\n",
      "\u001b[0;32m~/Documents/GitHub/CS-433-ML-SSH/Project1/proj1_helpers.py\u001b[0m in \u001b[0;36mpredict_labels\u001b[0;34m(weights, data)\u001b[0m\n\u001b[1;32m     67\u001b[0m \u001b[0;32mdef\u001b[0m \u001b[0mpredict_labels\u001b[0m\u001b[0;34m(\u001b[0m\u001b[0mdata\u001b[0m\u001b[0;34m,\u001b[0m \u001b[0mw\u001b[0m\u001b[0;34m)\u001b[0m\u001b[0;34m:\u001b[0m\u001b[0;34m\u001b[0m\u001b[0m\n\u001b[1;32m     68\u001b[0m     \u001b[0;34m\"\"\"Generates class predictions given weights, and a test data matrix\"\"\"\u001b[0m\u001b[0;34m\u001b[0m\u001b[0m\n\u001b[0;32m---> 69\u001b[0;31m     \u001b[0my_pred\u001b[0m \u001b[0;34m=\u001b[0m \u001b[0mnp\u001b[0m\u001b[0;34m.\u001b[0m\u001b[0mdot\u001b[0m\u001b[0;34m(\u001b[0m\u001b[0mdata\u001b[0m\u001b[0;34m,\u001b[0m \u001b[0mw\u001b[0m\u001b[0;34m)\u001b[0m\u001b[0;34m\u001b[0m\u001b[0m\n\u001b[0m\u001b[1;32m     70\u001b[0m     \u001b[0my_pred\u001b[0m\u001b[0;34m[\u001b[0m\u001b[0mnp\u001b[0m\u001b[0;34m.\u001b[0m\u001b[0mwhere\u001b[0m\u001b[0;34m(\u001b[0m\u001b[0my_pred\u001b[0m \u001b[0;34m<=\u001b[0m \u001b[0;36m0\u001b[0m\u001b[0;34m)\u001b[0m\u001b[0;34m]\u001b[0m \u001b[0;34m=\u001b[0m \u001b[0;36m0\u001b[0m\u001b[0;34m\u001b[0m\u001b[0m\n\u001b[1;32m     71\u001b[0m     \u001b[0my_pred\u001b[0m\u001b[0;34m[\u001b[0m\u001b[0mnp\u001b[0m\u001b[0;34m.\u001b[0m\u001b[0mwhere\u001b[0m\u001b[0;34m(\u001b[0m\u001b[0my_pred\u001b[0m \u001b[0;34m>\u001b[0m \u001b[0;36m0\u001b[0m\u001b[0;34m)\u001b[0m\u001b[0;34m]\u001b[0m \u001b[0;34m=\u001b[0m \u001b[0;36m1\u001b[0m\u001b[0;34m\u001b[0m\u001b[0m\n",
      "\u001b[0;32m<__array_function__ internals>\u001b[0m in \u001b[0;36mdot\u001b[0;34m(*args, **kwargs)\u001b[0m\n",
      "\u001b[0;31mValueError\u001b[0m: shapes (568238,167) and (452,) not aligned: 167 (dim 1) != 452 (dim 0)"
     ]
    }
   ],
   "source": [
    "print(\"Making predctions for the test file...\")\n",
    "y_pred = predict_labels(poly_test, poly_w)\n",
    "create_csv_submission(test_id, y_pred, 'predictions.csv')\n",
    "print(\"The prediction has been stored in the predictions.csv file\")"
   ]
  },
  {
   "cell_type": "code",
   "execution_count": 105,
   "id": "d9821a8f",
   "metadata": {},
   "outputs": [
    {
     "data": {
      "text/plain": [
       "(250000, 452)"
      ]
     },
     "execution_count": 105,
     "metadata": {},
     "output_type": "execute_result"
    }
   ],
   "source": [
    "poly_train.shape"
   ]
  },
  {
   "cell_type": "code",
   "execution_count": null,
   "id": "0613e21d",
   "metadata": {},
   "outputs": [],
   "source": []
  }
 ],
 "metadata": {
  "kernelspec": {
   "display_name": "Python 3",
   "language": "python",
   "name": "python3"
  },
  "language_info": {
   "codemirror_mode": {
    "name": "ipython",
    "version": 3
   },
   "file_extension": ".py",
   "mimetype": "text/x-python",
   "name": "python",
   "nbconvert_exporter": "python",
   "pygments_lexer": "ipython3",
   "version": "3.6.4"
  }
 },
 "nbformat": 4,
 "nbformat_minor": 5
}
